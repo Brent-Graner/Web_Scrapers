{
 "cells": [
  {
   "cell_type": "code",
   "execution_count": 1,
   "metadata": {
    "collapsed": true
   },
   "outputs": [],
   "source": [
    "import pandas as pan\n",
    "from bs4 import BeautifulSoup\n",
    "import urllib.request"
   ]
  },
  {
   "cell_type": "code",
   "execution_count": 2,
   "metadata": {
    "collapsed": true
   },
   "outputs": [],
   "source": [
    "page = urllib.request.urlopen(\"http://www.nytimes.com\") #All the News that's Fit to Print :D\n",
    "htmlSource = page.read()                            \n",
    "page.close()   \n",
    "soup = BeautifulSoup(htmlSource, \"lxml\")"
   ]
  },
  {
   "cell_type": "code",
   "execution_count": 32,
   "metadata": {
    "collapsed": false,
    "scrolled": true
   },
   "outputs": [
    {
     "name": "stdout",
     "output_type": "stream",
     "text": [
      "Desperate, on a Road to Nowhere\n",
      "2 White House Officials Helped Nunes View Secret Reports\n",
      "Bathroom Law Repeal Passes North Carolina Legislature\n",
      "A Love of College Sports Compelled the Repeal\n",
      "Trump Issues Threat to Conservative House Faction\n",
      "Can Trump Change Libel Laws?\n",
      "Trump Leaves Science Jobs Vacant, Troubling Critics\n",
      "Administration Says Its Next Target Is Net Neutrality\n",
      "U.S. Escalates Role in Mideast Wars, With No Endgame\n",
      "Trump Eases Combat Rules in Somalia Intended to Protect Civilians\n",
      "Trump Plan Softens Nafta Stance but Seeks Tariff Option\n",
      "South Korea’s Ousted Leader Is Arrested and Held in Jail\n",
      "Your Morning Briefing\n",
      "California Today: Theater Company Has a Hit With a ‘Zoot Suit’ Revival\n",
      "Cut the Cord, but Keep the Films? Here Are 3 Ways\n",
      "Protecting Your Digital Life in 8 Easy Steps\n",
      "Venezuela Supreme Court Strips Legislature of Power\n",
      "Good Schools, Affordable Homes: Suburban Sweet Spots\n",
      "Liked ‘Serial’? The ‘S-Town’ Podcast Is Better\n",
      "Can Sears Survive ‘Pirate’ Owner? Can He Survive Sears?\n",
      "Foster Father’s Home Called ‘a Prison’ in Sex Abuse Trial\n",
      "Israeli Leader Set to Approve First New Settlement in Decades\n",
      "Kim Jong-nam’s Body to Be Released by Malaysia to North Korea\n",
      "Christie Allies Get Prison Terms in Bridge Case\n",
      "Anti-Abortion Activists Charged in Video Case\n",
      "The Interpreter\n",
      "Fraudsters or Experts? Art World Studies Its Scholars\n",
      "Phillipa Soo Doesn’t Leave It All Onstage\n",
      "Using YouTube to Take On Mean Girls\n",
      "Ivanka Trump Is a Bad Ambassador for Working Women\n",
      "Editorial: Ignoring History and the Promise of Diplomacy\n",
      "Collins: Trump Remembers the Ladies\n",
      "Kristof: President Trump vs. Big Bird\n",
      "Join us on Facebook »\n",
      "The Blind Spots in Trump’s Foreign Policy\n",
      "Edsall: Trump Is Ignorant of His Own Ignorance\n",
      "The Empty Supreme Court Confirmation Hearing\n",
      "Whatever Happened to France’s Famed ‘Liberté’?\n",
      "Suffer the Little Children: Church Cruelty in Ireland\n",
      "Foreign Correspondents as They Live and Breathe\n",
      "At The Times, Roger Wilkins Fought Injustice. And The Times.\n",
      "Foreign Correspondents as They Live and Breathe\n",
      "Play Today’s Puzzle \n",
      "Play Today’s Puzzle \n",
      "Park Geun-hye, South Korea’s Ousted Leader, Is Arrested on Bribery Charges        \n",
      "Kim Jong-nam’s Body to Be Released by Malaysia to North Korea        \n",
      "Tech We're Using: He Turned His Home Into a Reality Television Show        \n",
      "U.S. Aims for Nafta Provision to Reinstate Tariffs        \n",
      "Editorial: Ignoring Diplomacy’s Past and Its Future Promise        \n",
      "Frank Bruni: Devin Nunes Is Dangerous        \n",
      "North Carolina Governor Expected to Sign Repeal of Bathroom Law        \n",
      "Lock ’Em Up? Prosecutors Who Say ‘Not So Fast’ Face a Backlash        \n",
      "Chase Had Ads on 400,000 Sites. Then on Just 5,000. Same Results.        \n",
      "Tech We're Using: He Turned His Home Into a Reality Television Show        \n",
      "Art Review: ‘Age of Empires’: How 2 Dynasties of Art Forged China’s Identity        \n",
      "Critic's Notebook: Liked ‘Serial’? Here’s Why the True-Crime Podcast ‘S-Town’ Is Better        \n",
      "Pence and Ailing Senator Deliver Votes to Block Family Planning Money        \n",
      "2 White House Officials Helped Give Nunes Intelligence Reports        \n",
      "Social Q’s: O Brother, Where Art Thou? Getting Him to Mom’s Big Birthday        \n",
      "On the Runway: Freedom of Expression: United, Puma and the Leggings Furor        \n",
      "9 Comic Book Heroes Who Could Come Out on the Big Screen        \n",
      "Review: In ‘The Zookeeper’s Wife,’ the Holocaust Seems Tame        \n",
      "2 Christie Allies Are Sentenced in George Washington Bridge Scandal        \n",
      "In School Nurse’s Room: Tylenol, Bandages and an Antidote to Heroin        \n",
      "North Carolina’s Love of College Sports Spurred Move to Repeal Bathroom Law        \n",
      "Sports of The Times: Facing Congress, Some Sports Officials (Not All) Begin to Confront Sexual Abuse        \n",
      "How to Get Cheap Tickets to Broadway Shows (Even ‘Hamilton’)        \n",
      "Critic’s Notebook: Plays About the Art World? Not Sold        \n",
      "Trilobites: Little Tropical Fish With a Big, Venomous Bite        \n",
      "Trump Leaves Science Jobs Vacant, Troubling Critics        \n",
      "William McPherson, Book Critic and Novelist, Dies at 84        \n",
      "Arthur Blythe, Jazz Saxophonist Who Mixed Sultry and Strident, Dies at 76        \n",
      "Texas TV: From the Sublime to the Ridiculous        \n",
      "‘Review,’ a Workaholic’s Slapstick Tragedy Nears Its End        \n",
      "Do DHA Supplements Make Babies Smarter?        \n",
      "F.D.A. Approves First Drug to Treat Severe Multiple Sclerosis        \n",
      "Slowing Down, Finding Hidden Paradise on St. John        \n",
      "When Love and Travel Intersect: Your Stories        \n",
      "Books of The Times: A Florida of Sun, Sky, Sea and Mind        \n",
      "Books of The Times: A Haunting Debut Looks Ahead to a Second American Civil War        \n",
      "College Is the Goal. The Problem? Getting There.        \n",
      "Supreme Court Rejects Education Minimum Applied by Gorsuch        \n",
      "At 91, Ella Brennan Still Feeds (and Leads) New Orleans        \n",
      "To Become a Better Cook, Sharpen Your Senses        \n",
      "Editorials: Congress’s Duty in the War With ISIS        \n",
      "Frank Bruni: Trump’s Trainwreck        \n",
      "Living In: Locust Valley: A Quiet Burg With Good Schools and Elite Clubs        \n",
      "What You Get: $1.5 Million Homes in Washington State, Kentucky and Georgia        \n",
      "Special Election: Why Democrats Have a Shot in a Georgia District Dominated by Republicans        \n",
      "Automation Nation: Evidence That Robots Are Winning the Race for American Jobs        \n",
      "Notebook: Mother and Son, Separated During South Sudan’s Civil War, Make Contact        \n",
      "Letter of Recommendation: Letter of Recommendation: Life Magazine        \n",
      "Driven: Video Review: Acura NSX, a Supercar in Almost All Ways        \n",
      "Ford to Expand U.S. Production of Trucks and S.U.V.s        \n",
      "Spring Fashion Goes Punk (but Ladylike)        \n",
      "The Prettiest Restaurant Plates in Paris        \n",
      "Foreign Correspondents as They Live and Breathe        \n",
      "A Surprise Trip to Prison        \n",
      "Lena Hall’s 500-Square-Foot Apartment in Midtown\n",
      "Search for Homes for Sale or Rent\n",
      "Sell Your Home\n"
     ]
    }
   ],
   "source": [
    "headlines = []\n",
    "h1_stories = soup.findAll(\"h1\", \"story-heading\") #header 1 is used for the most prominent news items-not always present.\n",
    "for n in range(len(h1_stories)): #len(h1_stories) is usually 0\n",
    "    link = h1_stories[n].find(\"a\") #get the link to the full story\n",
    "    headlines.append(link.string) #append the link to the list of headlines\n",
    "\n",
    "h2_stories = soup.findAll(\"h2\", \"story-heading\") #h2 stories can have descriptive bullet-point ledes.\n",
    "for story in h2_stories:\n",
    "  link = story.find(\"a\") #get link to story\n",
    "  if link is not None: #some video stories play on the homepage and d/n link-ignore them \n",
    "    if link.string[0] != '\\r': #same for audio clips--start with '\\r', For Some Reason\n",
    "      if link.string[0] != '\\n': #weird formatting choice for categorized headlines--all start w/ '\\n' , 13 spaces\n",
    "        headlines.append(link.string)\n",
    "      else:\n",
    "        headlines.append(link.string[13:]) #slice off 13 leading spaces in categorized h2 headlines\n",
    "\n",
    "for story in headlines:\n",
    "  print(story)"
   ]
  },
  {
   "cell_type": "code",
   "execution_count": null,
   "metadata": {
    "collapsed": true
   },
   "outputs": [],
   "source": []
  }
 ],
 "metadata": {
  "kernelspec": {
   "display_name": "Python 3",
   "language": "python",
   "name": "python3"
  },
  "language_info": {
   "codemirror_mode": {
    "name": "ipython",
    "version": 3
   },
   "file_extension": ".py",
   "mimetype": "text/x-python",
   "name": "python",
   "nbconvert_exporter": "python",
   "pygments_lexer": "ipython3",
   "version": "3.6.0"
  }
 },
 "nbformat": 4,
 "nbformat_minor": 2
}
