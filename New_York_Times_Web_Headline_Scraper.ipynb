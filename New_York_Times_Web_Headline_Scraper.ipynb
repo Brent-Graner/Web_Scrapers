{
 "cells": [
  {
   "cell_type": "code",
   "execution_count": 1,
   "metadata": {
    "collapsed": true
   },
   "outputs": [],
   "source": [
    "import pandas as pan\n",
    "from bs4 import BeautifulSoup\n",
    "import urllib.request"
   ]
  },
  {
   "cell_type": "code",
   "execution_count": 7,
   "metadata": {
    "collapsed": true
   },
   "outputs": [],
   "source": [
    "page = urllib.request.urlopen(\"http://www.nytimes.com\") \n",
    "htmlSource = page.read()                            \n",
    "page.close()   \n",
    "soup = BeautifulSoup(htmlSource, \"lxml\")"
   ]
  },
  {
   "cell_type": "code",
   "execution_count": 8,
   "metadata": {
    "collapsed": true
   },
   "outputs": [],
   "source": [
    "topStory = soup.findAll(\"h1\", \"story-heading\")"
   ]
  },
  {
   "cell_type": "code",
   "execution_count": 9,
   "metadata": {
    "collapsed": false
   },
   "outputs": [],
   "source": [
    "headlines = [topStory[0].string]"
   ]
  },
  {
   "cell_type": "code",
   "execution_count": 10,
   "metadata": {
    "collapsed": true
   },
   "outputs": [],
   "source": [
    "h2_stories = soup.findAll(\"h2\", \"story-heading\")"
   ]
  },
  {
   "cell_type": "code",
   "execution_count": 11,
   "metadata": {
    "collapsed": false
   },
   "outputs": [
    {
     "data": {
      "text/plain": [
       "123"
      ]
     },
     "execution_count": 11,
     "metadata": {},
     "output_type": "execute_result"
    }
   ],
   "source": [
    "len(h2_stories)"
   ]
  },
  {
   "cell_type": "code",
   "execution_count": 12,
   "metadata": {
    "collapsed": false
   },
   "outputs": [
    {
     "name": "stdout",
     "output_type": "stream",
     "text": [
      "What the Fight Against ISIS Looks Like to Mosul’s Terrified Civilians\n",
      "Trump Signs Order Undoing Policies to Fight Climate Change\n",
      "Coal Miners Can Only Hope It Helps\n",
      "Promises of Paris Accord Slip Further Away\n",
      "An Industry That Needs More Than Just a Shift in Policy\n",
      "Russia Inquiry Stalls, Democrats Say, With Nunes Calling Shots\n",
      "5 Reasons Trump’s Tax Overhaul Plan Won’t Be So Easy\n",
      "Health Law Repeal Is Back on Agenda, Republicans Say\n",
      "As ‘Brexit’ Nears, Scotland Votes for One of Its Own\n",
      "Machines Are Rising Over the Humans to Pick Stock Winners\n",
      "\n",
      "                                    Crossing Cultures: K-Pop Fans in America                            \n",
      "Your Evening Briefing\n",
      "Your Wednesday Briefing\n",
      "Our Favorite Weeknight Pasta Dishes From Mark Bittman\n",
      "How to Travel With Adult Children\n",
      "Right and Left: Partisan Writing You Shouldn’t Miss\n",
      "A Florida of Sun, Sky, Sea and Mind\n",
      "F.D.A. Clears First Drug for Severe Multiple Sclerosis\n",
      "Second Thoughts on Anti-Immigrant Lawmaker in Iowa\n",
      "Fleetwood Mac and the Eagles Come to the Coasts\n",
      "Smack in the Middle of the Track: An Errant Basketball\n",
      "The Interpreter\n",
      "President Trump Risks the Planet\n",
      "The Stinging Insult of Hosni Mubarak’s Release\n",
      "How a Team in Seattle Changed Hockey Forever\n",
      "The Left-Wing Case for Brexit\n",
      "The Return of Aviator Glasses\n",
      "Program Teaches Healthy Cooking in Schools\n",
      "Israel’s Next War Is Always ‘Inevitable’\n",
      "A Glimpse Inside Nobu Downtown\n",
      "Big Ben Still Tolled\n",
      "The Stinging Insult of Hosni Mubarak’s Release\n",
      "Restoring 19th-Century Homes for Affordability\n",
      "Eyeing Change, Baseball Should Look to Its Past\n",
      "Fixes: A Guided Path\n",
      "12 Wine Grapes Worth Discovering\n",
      "Lena Hall’s 500-Square-Foot Apartment in Midtown\n",
      "Search for Homes for Sale or Rent\n",
      "Sell Your Home\n"
     ]
    }
   ],
   "source": [
    "for story in h2_stories:\n",
    "  if story.string is not None:\n",
    "    headlines.append(story.string)\n",
    "\n",
    "for story in headlines:\n",
    "  print(story)"
   ]
  },
  {
   "cell_type": "code",
   "execution_count": null,
   "metadata": {
    "collapsed": true
   },
   "outputs": [],
   "source": []
  }
 ],
 "metadata": {
  "kernelspec": {
   "display_name": "Python 3",
   "language": "python",
   "name": "python3"
  },
  "language_info": {
   "codemirror_mode": {
    "name": "ipython",
    "version": 3
   },
   "file_extension": ".py",
   "mimetype": "text/x-python",
   "name": "python",
   "nbconvert_exporter": "python",
   "pygments_lexer": "ipython3",
   "version": "3.6.0"
  }
 },
 "nbformat": 4,
 "nbformat_minor": 2
}
