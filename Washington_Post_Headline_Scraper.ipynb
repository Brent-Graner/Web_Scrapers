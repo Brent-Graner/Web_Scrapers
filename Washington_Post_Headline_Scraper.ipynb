{
 "cells": [
  {
   "cell_type": "code",
   "execution_count": 1,
   "metadata": {
    "collapsed": true
   },
   "outputs": [],
   "source": [
    "import pandas as pan\n",
    "from bs4 import BeautifulSoup\n",
    "import urllib.request"
   ]
  },
  {
   "cell_type": "code",
   "execution_count": 2,
   "metadata": {
    "collapsed": true
   },
   "outputs": [],
   "source": [
    "page = urllib.request.urlopen(\"http://www.washingtonpost.com\") \n",
    "htmlSource = page.read()                            \n",
    "page.close()   \n",
    "soup = BeautifulSoup(htmlSource, \"lxml\")"
   ]
  },
  {
   "cell_type": "code",
   "execution_count": 14,
   "metadata": {
    "collapsed": false
   },
   "outputs": [
    {
     "name": "stdout",
     "output_type": "stream",
     "text": [
      "Disabled or just desperate? Rural Americans turn to disability as jobs dry up.\n",
      "Trump vows to fight hard-line House conservatives in midterm elections\n",
      "Pence breaks tie to allow states to strip family-planning dollars from abortion providers\n",
      "Former South Korean president arrested in corruption probe\n",
      "How Mars lost its atmosphere, and why Earth didn’t\n",
      "Federal judge in Hawaii extends order blocking Trump administration’s travel ban\n",
      "A panty liner triggers a TSA pat-down just one step removed from a pap smear\n",
      "McDonald’s just announced one of its biggest menu changes in years\n",
      "Mike Pence doesn’t dine alone with other women — and everyone was shocked\n",
      "Why more and more restaurants in D.C. are offering half portions\n",
      "North Carolina lawmakers, facing economic pressure, vote to repeal transgender bathroom law\n",
      "Paul Ryan, Marco Rubio may have been targets of Russian social media campaigns\n",
      "Israel set to approve first new West Bank settlement in 20 years\n",
      "Trump’s favorite dictator is jailing U.S. citizens\n",
      "These are the right people to get the truth about Russia — and do it quickly\n",
      "Can the Senate avoid going nuclear over Gorsuch?\n",
      "Democrats can’t get over Ivanka Trump\n",
      "Today’s Russia hearings actually revealed something new and important\n",
      "Companies like Thinx use liberal politics to sell things. Let the buyer beware.\n",
      "Decades of yearly portraits show how power has transformed Angela Merkel\n",
      "How Trump is rolling back Obama’s legacy\n",
      "How Gorsuch’s judicial experience compares with his Supreme Court predecessors\n",
      "A look inside the Obamas’ Kalorama home\n",
      "A waterside dream kitchen built for a family\n",
      "Here are 16 of the week’s best photos\n"
     ]
    }
   ],
   "source": [
    "headlines = []\n",
    "thin_headlines = soup.findAll(\"div\", \"headline small thin-style text-align-inherit \")\n",
    "for n in range(len(thin_headlines)):\n",
    "  link = thin_headlines[n].find(\"a\") #get the link to the full story\n",
    "  headlines.append(link.string) #append the link to the list of headlines\n",
    "\n",
    "small_headlines = soup.findAll(\"div\", \"headline small normal-style text-align-inherit \")\n",
    "for n in range(len(small_headlines)):\n",
    "  link = small_headlines[n].find(\"a\") #get the link to the full story\n",
    "  headlines.append(link.string) #append the link to the list of headlines\n",
    "    \n",
    "x_small_headlines = soup.findAll(\"div\", \"headline x-small normal-style text-align-inherit \")\n",
    "for n in range(len(x_small_headlines)):\n",
    "  link = x_small_headlines[n].find(\"a\") #get the link to the full story\n",
    "  headlines.append(link.string) #append the link to the list of headlines\n",
    "    \n",
    "xx_small_headlines = soup.findAll(\"div\", \"headline xx-small normal-style text-align-inherit \")\n",
    "for n in range(len(xx_small_headlines)):\n",
    "  link = xx_small_headlines[n].find(\"a\") #get the link to the full story\n",
    "  headlines.append(link.string) #append the link to the list of headlines\n",
    "\n",
    "for story in headlines:\n",
    "  print(story)"
   ]
  },
  {
   "cell_type": "code",
   "execution_count": null,
   "metadata": {
    "collapsed": true
   },
   "outputs": [],
   "source": [
    "<div class=\"headline small thin-style text-align-inherit \" style=\"width: 452.021px; margin-left: auto; margin-right: auto;\"><a class=\"\" href=\"https://www.washingtonpost.com/sf/local/2017/03/30/disabled-or-just-desperate/\" data-pb-field=\"web_headline\" data-pb-url-field=\"canonical_url\" data-pb-placeholder=\"Write headline here\">Disabled or just desperate? Rural Americans turn to disability as jobs dry up.</a></div>"
   ]
  },
  {
   "cell_type": "code",
   "execution_count": null,
   "metadata": {
    "collapsed": true
   },
   "outputs": [],
   "source": [
    "<div class=\"headline small normal-style text-align-inherit \" style=\"width: 412.021px;\"><a class=\"\" href=\"https://www.washingtonpost.com/powerpost/trump-we-must-fight-hard-line-conservative-freedom-caucus-in-2018-midterm-elections/2017/03/30/56783e38-154e-11e7-ada0-1489b735b3a3_story.html\" data-pb-field=\"web_headline\" data-pb-url-field=\"canonical_url\" data-pb-placeholder=\"Write headline here\">Trump vows to fight hard-line House conservatives in midterm elections</a></div>"
   ]
  },
  {
   "cell_type": "code",
   "execution_count": null,
   "metadata": {
    "collapsed": true
   },
   "outputs": [],
   "source": [
    "<div class=\"headline x-small normal-style text-align-inherit \" style=\"width: 521.396px;\"><a class=\"\" href=\"https://www.washingtonpost.com/news/powerpost/wp/2017/03/30/pence-breaks-tie-on-debate-for-planned-parenthood-measure/\" data-pb-field=\"web_headline\" data-pb-url-field=\"canonical_url\" data-pb-placeholder=\"Write headline here\">Pence breaks tie to allow states to strip family-planning dollars from abortion providers</a></div>"
   ]
  },
  {
   "cell_type": "code",
   "execution_count": null,
   "metadata": {
    "collapsed": true
   },
   "outputs": [],
   "source": [
    "<div class=\"headline xx-small normal-style text-align-inherit \" style=\"width: auto;\"><a class=\"\" href=\"https://www.washingtonpost.com/news/global-opinions/wp/2017/03/30/trumps-favorite-dictator-is-jailing-u-s-citizens/\" data-pb-field=\"web_headline\" data-pb-url-field=\"canonical_url\" data-pb-placeholder=\"Write headline here\">Trump’s favorite dictator is jailing U.S. citizens</a></div>"
   ]
  },
  {
   "cell_type": "code",
   "execution_count": null,
   "metadata": {
    "collapsed": true
   },
   "outputs": [],
   "source": [
    "<div class=\"headline xx-small highlight-style bulleted text-align-inherit \" style=\"width: 232.208px;\"><a class=\"\" href=\"https://www.washingtonpost.com/news/post-politics/wp/2017/03/30/white-house-invites-house-intelligence-committee-to-review-new-documents/\" data-pb-field=\"web_headline\" data-pb-url-field=\"canonical_url\" data-pb-placeholder=\"Write headline here\">White House invites House and Senate intelligence committee leaders to review new documents</a></div>"
   ]
  }
 ],
 "metadata": {
  "kernelspec": {
   "display_name": "Python 3",
   "language": "python",
   "name": "python3"
  },
  "language_info": {
   "codemirror_mode": {
    "name": "ipython",
    "version": 3
   },
   "file_extension": ".py",
   "mimetype": "text/x-python",
   "name": "python",
   "nbconvert_exporter": "python",
   "pygments_lexer": "ipython3",
   "version": "3.6.0"
  }
 },
 "nbformat": 4,
 "nbformat_minor": 2
}
