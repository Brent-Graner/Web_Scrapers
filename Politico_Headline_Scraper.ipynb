{
 "cells": [
  {
   "cell_type": "code",
   "execution_count": 1,
   "metadata": {
    "collapsed": true
   },
   "outputs": [],
   "source": [
    "import pandas as pan\n",
    "from bs4 import BeautifulSoup\n",
    "import urllib.request"
   ]
  },
  {
   "cell_type": "code",
   "execution_count": 2,
   "metadata": {
    "collapsed": true
   },
   "outputs": [],
   "source": [
    "page = urllib.request.urlopen(\"http://www.politico.com\") \n",
    "htmlSource = page.read()                            \n",
    "page.close()   \n",
    "soup = BeautifulSoup(htmlSource, \"lxml\")"
   ]
  },
  {
   "cell_type": "code",
   "execution_count": 3,
   "metadata": {
    "collapsed": true
   },
   "outputs": [],
   "source": [
    "#If a tag contains multiple strings separated by linebreaks <br>, then .string returns None\n",
    "for e in soup.findAll('br'): #remove linebreak tags <br>\n",
    "    e.extract()"
   ]
  },
  {
   "cell_type": "code",
   "execution_count": 4,
   "metadata": {
    "collapsed": false
   },
   "outputs": [
    {
     "name": "stdout",
     "output_type": "stream",
     "text": [
      "Did Obama blow it on the Russian hacking? \n",
      "Fox News contributor sues network, Ailes for gender discrimination\n",
      "Trump: 'We are very much behind' Egypt's el-Sisi\n",
      "Graham: Flynn asking for immunity ‘is a bit bizarre’\n",
      "Trump claims wiretap tweet ‘is turning out to be true’\n",
      "Trump applauds 'amazing' Fox News coverage of surveillance claim\n",
      "SCOTUS won't hear case on ballot selfies\n",
      "Jared Kushner travels to Iraq\n",
      "Trump's schedule today\n",
      "Haley eclipses Tillerson on Trump's foreign policy ladder\n",
      "Senate Democrats have votes to filibuster Gorsuch\n",
      "How Russia became the jihadists’ No. 1 target\n",
      "Former Trump staffers hunt for foreign lobbying work\n",
      "Trump hits favorite targets in tweetstorm\n",
      "Chaffetz: Flynn might need to repay ‘tens of thousands of dollars’\n",
      "More Flynn omissions as White House discloses Russia Today payment\n",
      "Seattle mayor to Democrats: 'Anger has to be attached to a strategy’\n",
      "Trump’s White House seeks new apprentices\n",
      "Kasich moves fuel 2020 buzz\n",
      "Reports: At least 10 killed in St. Petersburg subway blasts\n",
      "What Trump should ask Sisi\n",
      "Why Republicans can’t find the big voter fraud conspiracy\n",
      "Following the Gorsuch confirmation fight? \n",
      "Trump: 'I don't lose'\n",
      "Senate Democrats have votes to filibuster Gorsuch\n",
      "Trump revives Clinton criticisms in early morning tweets\n",
      "Trump applauds 'amazing' Fox News coverage of surveillance claim\n",
      "Haley eclipses Tillerson on Trump's foreign policy ladder\n",
      "Donald Trump’s Fictional America\n",
      "The Syrian Rebel Who Tried to Build an Islamist Paradise\n",
      "Tomi Lahren Was Made for the Trump Era\n",
      "When America Toes Moscow’s Line\n",
      "Palestine’s Man in Washington\n",
      "A Liberal Fantasy Ripped from a Hollywood Script\n",
      "When Is It OK for Democrats to Work With Trump? A Handy Guide\n",
      "McConnell: 'Gorsuch is going to be confirmed' one way or the other\n",
      "Grassley presses Justice Dept. on Russian ties to firm behind Trump dossier\n",
      "GOP scrambles to head off special election disaster\n",
      "Trump's dangerous expansion of executive war powers\n",
      "Why I changed my mind on 'sanctuary' cities\n",
      "The Trump administration’s misleading embrace of ‘evidence’\n",
      "Trump revives Clinton criticisms in early morning tweets\n",
      "Trump welcomes Egypt’s dictator\n",
      "Trump doesn't sign his executive order \n",
      "Kushner’s privileged status stokes resentment in White House \n",
      "White House ponders reorganization after health care debacle\n",
      "Trump: Flynn should seek immunity in Russia probe ‘witch hunt’\n",
      "Democrats aim to take out Cruz in 2018 \n",
      "Trump aide accused of Hatch Act violation after urging Amash primary challenge \n",
      "Democrats burned by polling blind spot\n",
      "Interim EU trade deal could hit British services hard\n",
      "Brexit brings nuclear (con)fusion\n",
      "Spain won't block Scottish EU membership\n",
      "Nerdcast: Is the Senate headed for the ‘nuclear option’?\n",
      "How a secret Freedom Caucus pact brought down Obamacare repeal\n",
      "Is Russiagate a Conspiracy Theory?\n",
      "Roger Stone: ‘They have no proof’\n",
      "‘None of us got here by being Namby Pamby’\n",
      "The Train Line That Brought the Twin Cities Back Together\n"
     ]
    }
   ],
   "source": [
    "def getHeadlines(section, headlines):\n",
    "  for story in section:\n",
    "    link = story.find(\"a\") #get the link to the full story\n",
    "    if link is not None:\n",
    "      headlines.append(link.string) #append the link to the list of headlines \n",
    "\n",
    "headlines = []\n",
    "h1_stories = soup.findAll(\"h1\", \" size-s \") \n",
    "getHeadlines(h1_stories, headlines)\n",
    "\n",
    "latest = soup.find(\"ul\", \"headline-list\")  #Special sidebar for 'latest on Politico' \n",
    "latest_stories = latest.findAll(\"li\")\n",
    "getHeadlines(latest_stories, headlines)\n",
    "\n",
    "h2_stories = soup.findAll(\"h2\", \" size-s \") \n",
    "getHeadlines(h2_stories, headlines)\n",
    "    \n",
    "h3_stories = soup.findAll(\"h3\") \n",
    "getHeadlines(h3_stories, headlines)\n",
    "    \n",
    "for story in headlines:\n",
    "  print(story)"
   ]
  },
  {
   "cell_type": "code",
   "execution_count": null,
   "metadata": {
    "collapsed": true
   },
   "outputs": [],
   "source": []
  }
 ],
 "metadata": {
  "kernelspec": {
   "display_name": "Python 3",
   "language": "python",
   "name": "python3"
  },
  "language_info": {
   "codemirror_mode": {
    "name": "ipython",
    "version": 3
   },
   "file_extension": ".py",
   "mimetype": "text/x-python",
   "name": "python",
   "nbconvert_exporter": "python",
   "pygments_lexer": "ipython3",
   "version": "3.6.0"
  }
 },
 "nbformat": 4,
 "nbformat_minor": 2
}
