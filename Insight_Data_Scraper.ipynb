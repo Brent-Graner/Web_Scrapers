{
 "cells": [
  {
   "cell_type": "code",
   "execution_count": 1,
   "metadata": {
    "collapsed": false
   },
   "outputs": [],
   "source": [
    "import pandas as pan\n",
    "from bs4 import BeautifulSoup\n",
    "import urllib.request"
   ]
  },
  {
   "cell_type": "code",
   "execution_count": 2,
   "metadata": {
    "collapsed": false
   },
   "outputs": [],
   "source": [
    "page = urllib.request.urlopen(\"http://www.insightdatascience.com/fellows\") \n",
    "htmlSource = page.read()                            \n",
    "page.close()                                        "
   ]
  },
  {
   "cell_type": "code",
   "execution_count": 3,
   "metadata": {
    "collapsed": true
   },
   "outputs": [],
   "source": [
    "soup = BeautifulSoup(htmlSource, \"lxml\")"
   ]
  },
  {
   "cell_type": "code",
   "execution_count": 5,
   "metadata": {
    "collapsed": false
   },
   "outputs": [],
   "source": [
    "name_list = []\n",
    "for name in soup.findAll(\"div\", \"tooltip_name\"):\n",
    "  name_list.append(name.string)"
   ]
  },
  {
   "cell_type": "code",
   "execution_count": 6,
   "metadata": {
    "collapsed": false
   },
   "outputs": [
    {
     "data": {
      "text/plain": [
       "512"
      ]
     },
     "execution_count": 6,
     "metadata": {},
     "output_type": "execute_result"
    }
   ],
   "source": [
    "len(name_list)"
   ]
  },
  {
   "cell_type": "code",
   "execution_count": 7,
   "metadata": {
    "collapsed": true
   },
   "outputs": [],
   "source": [
    "title_list = [title.string for title in soup.findAll(\"div\", \"toottip_title\")] #note \"toottip\" here in place of of \"tooltip\"\n",
    "company_list = [company.string for company in soup.findAll(\"div\", \"tooltip_company\")]\n",
    "project_list = [project.string for project in soup.findAll(\"div\", \"tooltip_project\")]\n",
    "background_list = [background.string for background in soup.findAll(\"div\", \"tooltip_background\")]"
   ]
  },
  {
   "cell_type": "code",
   "execution_count": 8,
   "metadata": {
    "collapsed": false
   },
   "outputs": [
    {
     "data": {
      "text/plain": [
       "509"
      ]
     },
     "execution_count": 8,
     "metadata": {},
     "output_type": "execute_result"
    }
   ],
   "source": [
    "len(title_list)"
   ]
  },
  {
   "cell_type": "code",
   "execution_count": 9,
   "metadata": {
    "collapsed": false
   },
   "outputs": [
    {
     "data": {
      "text/plain": [
       "510"
      ]
     },
     "execution_count": 9,
     "metadata": {},
     "output_type": "execute_result"
    }
   ],
   "source": [
    "len(company_list)"
   ]
  },
  {
   "cell_type": "code",
   "execution_count": 10,
   "metadata": {
    "collapsed": false
   },
   "outputs": [
    {
     "data": {
      "text/plain": [
       "512"
      ]
     },
     "execution_count": 10,
     "metadata": {},
     "output_type": "execute_result"
    }
   ],
   "source": [
    "len(project_list)"
   ]
  },
  {
   "cell_type": "code",
   "execution_count": 11,
   "metadata": {
    "collapsed": false
   },
   "outputs": [
    {
     "data": {
      "text/plain": [
       "512"
      ]
     },
     "execution_count": 11,
     "metadata": {},
     "output_type": "execute_result"
    }
   ],
   "source": [
    "len(background_list)"
   ]
  },
  {
   "cell_type": "code",
   "execution_count": 12,
   "metadata": {
    "collapsed": true
   },
   "outputs": [],
   "source": [
    "header = soup.find(\"div\", \"tooltip_header\")"
   ]
  },
  {
   "cell_type": "code",
   "execution_count": 14,
   "metadata": {
    "collapsed": false,
    "scrolled": true
   },
   "outputs": [
    {
     "name": "stdout",
     "output_type": "stream",
     "text": [
      "<div class=\"tooltip_header\"><div class=\"tooltip_header_container\"><div class=\"tooltip_name\">Douglas Mason</div><div class=\"toottip_title\">Data Scientist</div><div class=\"comma\">,</div><div class=\"tooltip_company\">Twitter</div></div></div>\n"
     ]
    }
   ],
   "source": [
    "print(header)"
   ]
  },
  {
   "cell_type": "code",
   "execution_count": 23,
   "metadata": {
    "collapsed": false
   },
   "outputs": [
    {
     "data": {
      "text/plain": [
       "'Douglas Mason'"
      ]
     },
     "execution_count": 23,
     "metadata": {},
     "output_type": "execute_result"
    }
   ],
   "source": [
    "name = header.find(\"div\", \"tooltip_name\")\n",
    "name.string"
   ]
  },
  {
   "cell_type": "code",
   "execution_count": 62,
   "metadata": {
    "collapsed": false
   },
   "outputs": [],
   "source": [
    "fellows = soup.findAll(\"div\", \"fellows_tooltip\")"
   ]
  },
  {
   "cell_type": "code",
   "execution_count": 63,
   "metadata": {
    "collapsed": false
   },
   "outputs": [
    {
     "data": {
      "text/plain": [
       "512"
      ]
     },
     "execution_count": 63,
     "metadata": {},
     "output_type": "execute_result"
    }
   ],
   "source": [
    "len(fellows)"
   ]
  },
  {
   "cell_type": "code",
   "execution_count": 81,
   "metadata": {
    "collapsed": false
   },
   "outputs": [],
   "source": [
    "\n",
    "list = []\n",
    "for person in fellows:\n",
    "  name = person.find(\"div\", \"tooltip_name\")\n",
    "  title = person.find(\"div\", \"toottip_title\") #note \"toottip\" here in place of of \"tooltip\"\n",
    "  if title is None: \n",
    "    title = \"N/A\"\n",
    "  else:\n",
    "    title = title.string\n",
    "  company = person.find(\"div\", \"tooltip_company\")\n",
    "  if company is None: \n",
    "    company = \"N/A\"\n",
    "  else:\n",
    "    company = company.string\n",
    "  project = person.find(\"div\", \"tooltip_project\")\n",
    "  background = person.find(\"div\", \"tooltip_background\")\n",
    "  row = [name.string, title, company, project.string, background.string]    \n",
    "  list.append(row)\n",
    "data = pan.DataFrame(list, columns=[\"Name\", \"Title\", \"Company\", \"Project\", \"Background\"])"
   ]
  },
  {
   "cell_type": "code",
   "execution_count": 82,
   "metadata": {
    "collapsed": false
   },
   "outputs": [
    {
     "data": {
      "text/html": [
       "<div>\n",
       "<table border=\"1\" class=\"dataframe\">\n",
       "  <thead>\n",
       "    <tr style=\"text-align: right;\">\n",
       "      <th></th>\n",
       "      <th>Name</th>\n",
       "      <th>Title</th>\n",
       "      <th>Company</th>\n",
       "      <th>Project</th>\n",
       "      <th>Background</th>\n",
       "    </tr>\n",
       "  </thead>\n",
       "  <tbody>\n",
       "    <tr>\n",
       "      <th>0</th>\n",
       "      <td>Douglas Mason</td>\n",
       "      <td>Data Scientist</td>\n",
       "      <td>Twitter</td>\n",
       "      <td>Email Searcher: Search &amp; Visualize Your Mailbox</td>\n",
       "      <td>Physics, Harvard University, PhD</td>\n",
       "    </tr>\n",
       "    <tr>\n",
       "      <th>1</th>\n",
       "      <td>Sebastien de Larquier</td>\n",
       "      <td>Data Scientist</td>\n",
       "      <td>Netflix</td>\n",
       "      <td>CouchTube: YouTube TV shows in one click</td>\n",
       "      <td>Space Physics, Virgina Tech, PhD</td>\n",
       "    </tr>\n",
       "    <tr>\n",
       "      <th>2</th>\n",
       "      <td>Harold Nguyen</td>\n",
       "      <td>Data Scientist</td>\n",
       "      <td>Proofpoint</td>\n",
       "      <td>Analysis of New York Stop-and-Frisk Data</td>\n",
       "      <td>Physics, UC Riverside, PhD</td>\n",
       "    </tr>\n",
       "    <tr>\n",
       "      <th>3</th>\n",
       "      <td>David Freeman</td>\n",
       "      <td>Head of Anti-Abuse Engineering</td>\n",
       "      <td>LinkedIn</td>\n",
       "      <td>Flight Delay Predictor</td>\n",
       "      <td>Mathematics, Stanford, Postdoc</td>\n",
       "    </tr>\n",
       "    <tr>\n",
       "      <th>4</th>\n",
       "      <td>Jessica Zúñiga</td>\n",
       "      <td>Senior Data Scientist</td>\n",
       "      <td>LinkedIn</td>\n",
       "      <td>Email Contacts Automatically Grouped &amp; Ranked</td>\n",
       "      <td>Mathematics, Duke, Postdoc</td>\n",
       "    </tr>\n",
       "    <tr>\n",
       "      <th>5</th>\n",
       "      <td>JP Bida</td>\n",
       "      <td>Director of Risk</td>\n",
       "      <td>Capital One</td>\n",
       "      <td>Measuring the Impact of Open Source Coders on ...</td>\n",
       "      <td>Bio-X Games, Stanford, Postdoc</td>\n",
       "    </tr>\n",
       "    <tr>\n",
       "      <th>6</th>\n",
       "      <td>Julia Viladomat</td>\n",
       "      <td>Data Scientist</td>\n",
       "      <td>Adobe</td>\n",
       "      <td>Sentiment Analysis Based on Social Media</td>\n",
       "      <td>Statistics, Stanford, Postdoc</td>\n",
       "    </tr>\n",
       "    <tr>\n",
       "      <th>7</th>\n",
       "      <td>Virot Ta Chiraphadhanakul</td>\n",
       "      <td>Data Scientist</td>\n",
       "      <td>Facebook</td>\n",
       "      <td>Tweet Timeline: Visualizing the Impact of Soci...</td>\n",
       "      <td>Operations Research, MIT, PhD</td>\n",
       "    </tr>\n",
       "    <tr>\n",
       "      <th>8</th>\n",
       "      <td>Leah McGuire</td>\n",
       "      <td>Senior Data Scientist</td>\n",
       "      <td>LinkedIn</td>\n",
       "      <td>Kiva Loan Checker</td>\n",
       "      <td>Computational Neuroscience, UC Berkeley, Postdoc</td>\n",
       "    </tr>\n",
       "    <tr>\n",
       "      <th>9</th>\n",
       "      <td>Puneeth Kalavase</td>\n",
       "      <td>Algorithm Developer</td>\n",
       "      <td>PlotWatt</td>\n",
       "      <td>Lower Your Electricity Bill</td>\n",
       "      <td>Environmental Energy, UC Berkeley, Postdoc</td>\n",
       "    </tr>\n",
       "    <tr>\n",
       "      <th>10</th>\n",
       "      <td>Paula Therese Lang</td>\n",
       "      <td>Senior Data Scientist</td>\n",
       "      <td>CreativeLIVE</td>\n",
       "      <td>SchoolGeo: Empowering Parents to Make Informed...</td>\n",
       "      <td>Computational Biology, UC Berkeley, Postdoc</td>\n",
       "    </tr>\n",
       "    <tr>\n",
       "      <th>11</th>\n",
       "      <td>Onkar Dalal</td>\n",
       "      <td>Data Scientist</td>\n",
       "      <td>LinkedIn</td>\n",
       "      <td>Diverse Recipe Recommendations</td>\n",
       "      <td>Computational &amp; Mathematical Engineering, Stan...</td>\n",
       "    </tr>\n",
       "    <tr>\n",
       "      <th>12</th>\n",
       "      <td>Yan Yang</td>\n",
       "      <td>Data Engineer</td>\n",
       "      <td>Microsoft Yammer</td>\n",
       "      <td>Stock Volatility Predictor</td>\n",
       "      <td>Computational &amp; Mathematical Engineering, Stan...</td>\n",
       "    </tr>\n",
       "    <tr>\n",
       "      <th>13</th>\n",
       "      <td>Nan Ma</td>\n",
       "      <td>Data Engineer</td>\n",
       "      <td>Microsoft Yammer</td>\n",
       "      <td>Event Map: Get Local News from Twitter</td>\n",
       "      <td>Electrical Engineering &amp; Computer Science, UC ...</td>\n",
       "    </tr>\n",
       "    <tr>\n",
       "      <th>14</th>\n",
       "      <td>Cinna Julie Wu</td>\n",
       "      <td>Data Scientist</td>\n",
       "      <td>Facebook</td>\n",
       "      <td>Sort My Friends: Automatically Organize your C...</td>\n",
       "      <td>Applied Mathematics, UC Berkeley, PhD</td>\n",
       "    </tr>\n",
       "    <tr>\n",
       "      <th>15</th>\n",
       "      <td>Aastha Jain</td>\n",
       "      <td>Data Scientist</td>\n",
       "      <td>LinkedIn</td>\n",
       "      <td>Multi-Domain Recommendations</td>\n",
       "      <td>Computer Vision &amp; Image Processing, Johns Hopk...</td>\n",
       "    </tr>\n",
       "    <tr>\n",
       "      <th>16</th>\n",
       "      <td>Efraim Feinstein</td>\n",
       "      <td>Data Scientist</td>\n",
       "      <td>Level Up Analytics</td>\n",
       "      <td>Find the Expert on Stack Overflow</td>\n",
       "      <td>Computational Biophysics, Harvard University, ...</td>\n",
       "    </tr>\n",
       "    <tr>\n",
       "      <th>17</th>\n",
       "      <td>Shelby Sturgis</td>\n",
       "      <td>Senior Data Visualization Engineer</td>\n",
       "      <td>Netflix</td>\n",
       "      <td>STARtrack: Helping Educators Track Student Per...</td>\n",
       "      <td>Biology, Stanford, PhD</td>\n",
       "    </tr>\n",
       "    <tr>\n",
       "      <th>18</th>\n",
       "      <td>Nick Bunch</td>\n",
       "      <td>Quantitative Analyst</td>\n",
       "      <td>YouTube</td>\n",
       "      <td>Arrive in Time: Airport Arrival Time Predictor</td>\n",
       "      <td>Space Plasma Physics, Stanford, Postdoc</td>\n",
       "    </tr>\n",
       "    <tr>\n",
       "      <th>19</th>\n",
       "      <td>Erin Summers</td>\n",
       "      <td>Software Engineer</td>\n",
       "      <td>Facebook</td>\n",
       "      <td>Flat Finder: Find Your Perfect Apartment</td>\n",
       "      <td>Electrical Engineering &amp; Computer Science, UC ...</td>\n",
       "    </tr>\n",
       "    <tr>\n",
       "      <th>20</th>\n",
       "      <td>Warren Mar</td>\n",
       "      <td>Data Scientist</td>\n",
       "      <td>BloomReach</td>\n",
       "      <td>FlixPixie: \"Automagically\" Sort Photos</td>\n",
       "      <td>Electrical Engineering, Stanford, PhD</td>\n",
       "    </tr>\n",
       "    <tr>\n",
       "      <th>21</th>\n",
       "      <td>Brian Boates</td>\n",
       "      <td>Data Science Lead</td>\n",
       "      <td>Square</td>\n",
       "      <td>SkillRankApp: What You Need to Know For Your D...</td>\n",
       "      <td>Physics, Dalhousie University, PhD</td>\n",
       "    </tr>\n",
       "    <tr>\n",
       "      <th>22</th>\n",
       "      <td>David Lopes Pegna</td>\n",
       "      <td>Director of Data Science</td>\n",
       "      <td>Vectra</td>\n",
       "      <td>MyFacebookDigest: What You Have Missed on Face...</td>\n",
       "      <td>Particle Physics, Princeton, Postdoc</td>\n",
       "    </tr>\n",
       "    <tr>\n",
       "      <th>23</th>\n",
       "      <td>Diane Wu</td>\n",
       "      <td>Founder</td>\n",
       "      <td>Trace Genomics</td>\n",
       "      <td>BakeSearch: Stop Searching &amp; Start Baking</td>\n",
       "      <td>Genetics, Stanford, PhD</td>\n",
       "    </tr>\n",
       "    <tr>\n",
       "      <th>24</th>\n",
       "      <td>Eric Zilli</td>\n",
       "      <td>Software Engineer</td>\n",
       "      <td>Facebook</td>\n",
       "      <td>Sandwichly: Make The Perfect Sandwich</td>\n",
       "      <td>Neuroscience, Boston University, Postdoc</td>\n",
       "    </tr>\n",
       "    <tr>\n",
       "      <th>25</th>\n",
       "      <td>Andre Bach</td>\n",
       "      <td>Data Scientist</td>\n",
       "      <td>Uber</td>\n",
       "      <td>RouteAroundCrime: The Path Less Mugged</td>\n",
       "      <td>Experimental Particle Physics, UC Berkeley, PhD</td>\n",
       "    </tr>\n",
       "    <tr>\n",
       "      <th>26</th>\n",
       "      <td>Berian James</td>\n",
       "      <td>Data Scientist</td>\n",
       "      <td>Square</td>\n",
       "      <td>Predicting Startup Outcomes on Crunchbase. Sil...</td>\n",
       "      <td>Astrophysics, UC Berkeley, Postdoc</td>\n",
       "    </tr>\n",
       "    <tr>\n",
       "      <th>27</th>\n",
       "      <td>Dominique Van de Sompel</td>\n",
       "      <td>Data Scientist</td>\n",
       "      <td>Facebook</td>\n",
       "      <td>TwinkedIn: Follow LinkedIn Contacts on Twitter</td>\n",
       "      <td>Molecular Imaging, Stanford, Postdoc</td>\n",
       "    </tr>\n",
       "    <tr>\n",
       "      <th>28</th>\n",
       "      <td>Megan Cartwright</td>\n",
       "      <td>Manager of Marketing Analytics &amp; Data Science</td>\n",
       "      <td>Eventbrite</td>\n",
       "      <td>Stay Connected: The People You Remember Not to...</td>\n",
       "      <td>Space Plasma Physics, UC Berkeley, Postdoc</td>\n",
       "    </tr>\n",
       "    <tr>\n",
       "      <th>29</th>\n",
       "      <td>Justin Parella</td>\n",
       "      <td>Data Scientist</td>\n",
       "      <td>Facebook</td>\n",
       "      <td>HipHopper: Find The Musicians You Have Been Mi...</td>\n",
       "      <td>Atmospheric Chemistry, Harvard, PhD</td>\n",
       "    </tr>\n",
       "    <tr>\n",
       "      <th>30</th>\n",
       "      <td>Christina Whittle</td>\n",
       "      <td>Staff, Business Analytics</td>\n",
       "      <td>NerdWallet</td>\n",
       "      <td>Neighbor Flavor</td>\n",
       "      <td>Genomics, UC Berkeley, Postdoc</td>\n",
       "    </tr>\n",
       "    <tr>\n",
       "      <th>31</th>\n",
       "      <td>Prakhar Mehirotra</td>\n",
       "      <td>Quantitative Analytics Finance Lead</td>\n",
       "      <td>Uber</td>\n",
       "      <td>News Now: Scrapes the RSS feeds from popular n...</td>\n",
       "      <td>Aeronautics, California Institute of Technolog...</td>\n",
       "    </tr>\n",
       "    <tr>\n",
       "      <th>32</th>\n",
       "      <td>Adrian Kuhn</td>\n",
       "      <td>Data Engineer</td>\n",
       "      <td>Facebook</td>\n",
       "      <td>SerendipityEngineApp: Your Personal Travel Ass...</td>\n",
       "      <td>Computer Science, University of British Columb...</td>\n",
       "    </tr>\n",
       "    <tr>\n",
       "      <th>33</th>\n",
       "      <td>Colin Dillard</td>\n",
       "      <td>Data Scientist</td>\n",
       "      <td>Level Up Analytics</td>\n",
       "      <td>CrimeVis: Visualization of Oakland Crime Rates</td>\n",
       "      <td>Physics, Harvard University, PhD</td>\n",
       "    </tr>\n",
       "    <tr>\n",
       "      <th>34</th>\n",
       "      <td>Keoki Seu</td>\n",
       "      <td>Data Engineer</td>\n",
       "      <td>Facebook</td>\n",
       "      <td>FlockThink: Twitter Search Engine For Instant ...</td>\n",
       "      <td>Condensed Matter Physics, Lawrence Berkeley Na...</td>\n",
       "    </tr>\n",
       "    <tr>\n",
       "      <th>35</th>\n",
       "      <td>Vincent Fusaro</td>\n",
       "      <td>Senior Software Engineer Technical Lead</td>\n",
       "      <td>InVitae</td>\n",
       "      <td>RxDiscovery: Mining the FDA's adverse event da...</td>\n",
       "      <td>Clinical Translational Informatics, Harvard Me...</td>\n",
       "    </tr>\n",
       "    <tr>\n",
       "      <th>36</th>\n",
       "      <td>Giovanna Miritello</td>\n",
       "      <td>Data Scientist</td>\n",
       "      <td>Telefonica</td>\n",
       "      <td>ReadTweetApp: The Tweets That Matter</td>\n",
       "      <td>Mathematical Engineering, University Carlos II...</td>\n",
       "    </tr>\n",
       "    <tr>\n",
       "      <th>37</th>\n",
       "      <td>George Lewis</td>\n",
       "      <td>Head of Risk &amp; Analytics</td>\n",
       "      <td>LendUp</td>\n",
       "      <td>Barkov Chain: Bar &amp; Restaurant Recommendation ...</td>\n",
       "      <td>Experimental Particle Physics, New York Univer...</td>\n",
       "    </tr>\n",
       "    <tr>\n",
       "      <th>38</th>\n",
       "      <td>Joe Gallagher</td>\n",
       "      <td>Data Lead</td>\n",
       "      <td>Reddit</td>\n",
       "      <td>RewindX: Rediscover Music From Your Youth</td>\n",
       "      <td>Computational Neuroscience, Stanford, Postdoc</td>\n",
       "    </tr>\n",
       "    <tr>\n",
       "      <th>39</th>\n",
       "      <td>Wei Zhang</td>\n",
       "      <td>Data Scientist/Software Engineer</td>\n",
       "      <td>Walmart Labs</td>\n",
       "      <td>Startup Sniffer: Transform gut-driven to data-...</td>\n",
       "      <td>Computer Science and Engineering, University o...</td>\n",
       "    </tr>\n",
       "    <tr>\n",
       "      <th>40</th>\n",
       "      <td>Xiaoying Xu</td>\n",
       "      <td>Data Scientist</td>\n",
       "      <td>Zillabyte</td>\n",
       "      <td>Job Link: Find and Connect with Potential New ...</td>\n",
       "      <td>Astrophysics/Cosmology, Carnegie Mellon Univer...</td>\n",
       "    </tr>\n",
       "    <tr>\n",
       "      <th>41</th>\n",
       "      <td>Aaron Keys</td>\n",
       "      <td>Data Architect</td>\n",
       "      <td>Aiirbnb</td>\n",
       "      <td>Gener-Rec: Greed is not good (at least for rec...</td>\n",
       "      <td>Chemical Engineering, UC Berkeley, Postdoc</td>\n",
       "    </tr>\n",
       "    <tr>\n",
       "      <th>42</th>\n",
       "      <td>Krystal St. Julien</td>\n",
       "      <td>Operations Analyst</td>\n",
       "      <td>Facebook</td>\n",
       "      <td>GeoJobr: Finding a job in today's economy</td>\n",
       "      <td>Biomedical Genetics, Biochemistry, and Organog...</td>\n",
       "    </tr>\n",
       "    <tr>\n",
       "      <th>43</th>\n",
       "      <td>Lauren Porter</td>\n",
       "      <td>Senior Data Scientist</td>\n",
       "      <td>Snapdeal</td>\n",
       "      <td>Off the Beaten Path: Your personalized vacatio...</td>\n",
       "      <td>Theoretical and Computational Astrophysics, UC...</td>\n",
       "    </tr>\n",
       "    <tr>\n",
       "      <th>44</th>\n",
       "      <td>Matthew Folz</td>\n",
       "      <td>Data Scientist</td>\n",
       "      <td>Facebook</td>\n",
       "      <td>GameChooser: Intelligent viewing recommendatio...</td>\n",
       "      <td>Probability Theory and Stochastic Processes,</td>\n",
       "    </tr>\n",
       "    <tr>\n",
       "      <th>45</th>\n",
       "      <td>Lisa Qian</td>\n",
       "      <td>Data Scientist</td>\n",
       "      <td>Airbnb</td>\n",
       "      <td>Yelp Personal: Personalized Yelp recommendations</td>\n",
       "      <td>Applied Physics, Stanford, PhD</td>\n",
       "    </tr>\n",
       "    <tr>\n",
       "      <th>46</th>\n",
       "      <td>Jingjing Huang</td>\n",
       "      <td>Sr. Associate, Business Analytics</td>\n",
       "      <td>LinkedIn</td>\n",
       "      <td>NuTube: Classifying recent YouTube videos</td>\n",
       "      <td>Mathematics/Electrical Engineering, California...</td>\n",
       "    </tr>\n",
       "    <tr>\n",
       "      <th>47</th>\n",
       "      <td>Nicholas Tomko</td>\n",
       "      <td>Data Scientist</td>\n",
       "      <td>Facebook</td>\n",
       "      <td>Reddibility: Just the Q's &amp; A's, none of the BS</td>\n",
       "      <td>Artificial Intelligence - Evolutionary Computa...</td>\n",
       "    </tr>\n",
       "    <tr>\n",
       "      <th>48</th>\n",
       "      <td>Praveen Kundurthy</td>\n",
       "      <td>Data Scientist</td>\n",
       "      <td>Microsoft Yammer</td>\n",
       "      <td>Flop Buster: The box-office prediction app</td>\n",
       "      <td>Astronomy, University of Washington, PhD</td>\n",
       "    </tr>\n",
       "    <tr>\n",
       "      <th>49</th>\n",
       "      <td>Kevin Schaeffer</td>\n",
       "      <td>Technical Lead</td>\n",
       "      <td>Facebook</td>\n",
       "      <td>NewsTweet: Discover what's happening right now...</td>\n",
       "      <td>Theoretical High Energy Physics, UC Berkeley, PhD</td>\n",
       "    </tr>\n",
       "  </tbody>\n",
       "</table>\n",
       "</div>"
      ],
      "text/plain": [
       "                         Name                                          Title  \\\n",
       "0               Douglas Mason                                 Data Scientist   \n",
       "1      Sebastien de Larquier                                  Data Scientist   \n",
       "2               Harold Nguyen                                 Data Scientist   \n",
       "3               David Freeman                 Head of Anti-Abuse Engineering   \n",
       "4              Jessica Zúñiga                          Senior Data Scientist   \n",
       "5                     JP Bida                               Director of Risk   \n",
       "6             Julia Viladomat                                 Data Scientist   \n",
       "7   Virot Ta Chiraphadhanakul                                 Data Scientist   \n",
       "8                Leah McGuire                          Senior Data Scientist   \n",
       "9            Puneeth Kalavase                            Algorithm Developer   \n",
       "10         Paula Therese Lang                          Senior Data Scientist   \n",
       "11                Onkar Dalal                                 Data Scientist   \n",
       "12                   Yan Yang                                  Data Engineer   \n",
       "13                     Nan Ma                                  Data Engineer   \n",
       "14             Cinna Julie Wu                                 Data Scientist   \n",
       "15                Aastha Jain                                 Data Scientist   \n",
       "16           Efraim Feinstein                                 Data Scientist   \n",
       "17             Shelby Sturgis             Senior Data Visualization Engineer   \n",
       "18                 Nick Bunch                           Quantitative Analyst   \n",
       "19               Erin Summers                              Software Engineer   \n",
       "20                 Warren Mar                                 Data Scientist   \n",
       "21               Brian Boates                              Data Science Lead   \n",
       "22          David Lopes Pegna                       Director of Data Science   \n",
       "23                   Diane Wu                                        Founder   \n",
       "24                 Eric Zilli                              Software Engineer   \n",
       "25                 Andre Bach                                 Data Scientist   \n",
       "26               Berian James                                 Data Scientist   \n",
       "27    Dominique Van de Sompel                                 Data Scientist   \n",
       "28           Megan Cartwright  Manager of Marketing Analytics & Data Science   \n",
       "29             Justin Parella                                 Data Scientist   \n",
       "30          Christina Whittle                      Staff, Business Analytics   \n",
       "31          Prakhar Mehirotra            Quantitative Analytics Finance Lead   \n",
       "32                Adrian Kuhn                                  Data Engineer   \n",
       "33              Colin Dillard                                Data Scientist    \n",
       "34                  Keoki Seu                                  Data Engineer   \n",
       "35             Vincent Fusaro        Senior Software Engineer Technical Lead   \n",
       "36         Giovanna Miritello                                 Data Scientist   \n",
       "37               George Lewis                       Head of Risk & Analytics   \n",
       "38              Joe Gallagher                                      Data Lead   \n",
       "39                  Wei Zhang               Data Scientist/Software Engineer   \n",
       "40                Xiaoying Xu                                 Data Scientist   \n",
       "41                 Aaron Keys                                 Data Architect   \n",
       "42         Krystal St. Julien                             Operations Analyst   \n",
       "43              Lauren Porter                          Senior Data Scientist   \n",
       "44               Matthew Folz                                 Data Scientist   \n",
       "45                  Lisa Qian                                Data Scientist    \n",
       "46             Jingjing Huang              Sr. Associate, Business Analytics   \n",
       "47             Nicholas Tomko                                 Data Scientist   \n",
       "48          Praveen Kundurthy                                 Data Scientist   \n",
       "49            Kevin Schaeffer                                 Technical Lead   \n",
       "\n",
       "               Company                                            Project  \\\n",
       "0              Twitter    Email Searcher: Search & Visualize Your Mailbox   \n",
       "1              Netflix           CouchTube: YouTube TV shows in one click   \n",
       "2           Proofpoint           Analysis of New York Stop-and-Frisk Data   \n",
       "3             LinkedIn                             Flight Delay Predictor   \n",
       "4             LinkedIn      Email Contacts Automatically Grouped & Ranked   \n",
       "5          Capital One  Measuring the Impact of Open Source Coders on ...   \n",
       "6                Adobe           Sentiment Analysis Based on Social Media   \n",
       "7             Facebook  Tweet Timeline: Visualizing the Impact of Soci...   \n",
       "8             LinkedIn                                  Kiva Loan Checker   \n",
       "9             PlotWatt                        Lower Your Electricity Bill   \n",
       "10        CreativeLIVE  SchoolGeo: Empowering Parents to Make Informed...   \n",
       "11            LinkedIn                     Diverse Recipe Recommendations   \n",
       "12    Microsoft Yammer                        Stock Volatility Predictor    \n",
       "13    Microsoft Yammer             Event Map: Get Local News from Twitter   \n",
       "14            Facebook  Sort My Friends: Automatically Organize your C...   \n",
       "15            LinkedIn                       Multi-Domain Recommendations   \n",
       "16  Level Up Analytics                  Find the Expert on Stack Overflow   \n",
       "17             Netflix  STARtrack: Helping Educators Track Student Per...   \n",
       "18             YouTube     Arrive in Time: Airport Arrival Time Predictor   \n",
       "19            Facebook           Flat Finder: Find Your Perfect Apartment   \n",
       "20          BloomReach             FlixPixie: \"Automagically\" Sort Photos   \n",
       "21              Square  SkillRankApp: What You Need to Know For Your D...   \n",
       "22              Vectra  MyFacebookDigest: What You Have Missed on Face...   \n",
       "23     Trace Genomics           BakeSearch: Stop Searching & Start Baking   \n",
       "24            Facebook              Sandwichly: Make The Perfect Sandwich   \n",
       "25                Uber            RouteAroundCrime: The Path Less Mugged    \n",
       "26              Square  Predicting Startup Outcomes on Crunchbase. Sil...   \n",
       "27            Facebook    TwinkedIn: Follow LinkedIn Contacts on Twitter    \n",
       "28          Eventbrite  Stay Connected: The People You Remember Not to...   \n",
       "29            Facebook  HipHopper: Find The Musicians You Have Been Mi...   \n",
       "30          NerdWallet                                    Neighbor Flavor   \n",
       "31                Uber  News Now: Scrapes the RSS feeds from popular n...   \n",
       "32            Facebook  SerendipityEngineApp: Your Personal Travel Ass...   \n",
       "33  Level Up Analytics     CrimeVis: Visualization of Oakland Crime Rates   \n",
       "34            Facebook  FlockThink: Twitter Search Engine For Instant ...   \n",
       "35             InVitae  RxDiscovery: Mining the FDA's adverse event da...   \n",
       "36         Telefonica                ReadTweetApp: The Tweets That Matter   \n",
       "37              LendUp  Barkov Chain: Bar & Restaurant Recommendation ...   \n",
       "38              Reddit          RewindX: Rediscover Music From Your Youth   \n",
       "39        Walmart Labs  Startup Sniffer: Transform gut-driven to data-...   \n",
       "40           Zillabyte  Job Link: Find and Connect with Potential New ...   \n",
       "41             Aiirbnb  Gener-Rec: Greed is not good (at least for rec...   \n",
       "42            Facebook          GeoJobr: Finding a job in today's economy   \n",
       "43            Snapdeal  Off the Beaten Path: Your personalized vacatio...   \n",
       "44            Facebook  GameChooser: Intelligent viewing recommendatio...   \n",
       "45              Airbnb   Yelp Personal: Personalized Yelp recommendations   \n",
       "46            LinkedIn         NuTube: Classifying recent YouTube videos    \n",
       "47            Facebook    Reddibility: Just the Q's & A's, none of the BS   \n",
       "48    Microsoft Yammer         Flop Buster: The box-office prediction app   \n",
       "49            Facebook  NewsTweet: Discover what's happening right now...   \n",
       "\n",
       "                                           Background  \n",
       "0                   Physics, Harvard University, PhD\n",
       "  \n",
       "1                    Space Physics, Virgina Tech, PhD  \n",
       "2                          Physics, UC Riverside, PhD  \n",
       "3                      Mathematics, Stanford, Postdoc  \n",
       "4                          Mathematics, Duke, Postdoc  \n",
       "5                      Bio-X Games, Stanford, Postdoc  \n",
       "6                       Statistics, Stanford, Postdoc  \n",
       "7                       Operations Research, MIT, PhD  \n",
       "8    Computational Neuroscience, UC Berkeley, Postdoc  \n",
       "9          Environmental Energy, UC Berkeley, Postdoc  \n",
       "10        Computational Biology, UC Berkeley, Postdoc  \n",
       "11  Computational & Mathematical Engineering, Stan...  \n",
       "12  Computational & Mathematical Engineering, Stan...  \n",
       "13  Electrical Engineering & Computer Science, UC ...  \n",
       "14              Applied Mathematics, UC Berkeley, PhD  \n",
       "15  Computer Vision & Image Processing, Johns Hopk...  \n",
       "16  Computational Biophysics, Harvard University, ...  \n",
       "17                             Biology, Stanford, PhD  \n",
       "18            Space Plasma Physics, Stanford, Postdoc  \n",
       "19  Electrical Engineering & Computer Science, UC ...  \n",
       "20              Electrical Engineering, Stanford, PhD  \n",
       "21                 Physics, Dalhousie University, PhD  \n",
       "22               Particle Physics, Princeton, Postdoc  \n",
       "23                            Genetics, Stanford, PhD  \n",
       "24           Neuroscience, Boston University, Postdoc  \n",
       "25    Experimental Particle Physics, UC Berkeley, PhD  \n",
       "26                 Astrophysics, UC Berkeley, Postdoc  \n",
       "27               Molecular Imaging, Stanford, Postdoc  \n",
       "28         Space Plasma Physics, UC Berkeley, Postdoc  \n",
       "29                Atmospheric Chemistry, Harvard, PhD  \n",
       "30                     Genomics, UC Berkeley, Postdoc  \n",
       "31  Aeronautics, California Institute of Technolog...  \n",
       "32  Computer Science, University of British Columb...  \n",
       "33                   Physics, Harvard University, PhD  \n",
       "34  Condensed Matter Physics, Lawrence Berkeley Na...  \n",
       "35  Clinical Translational Informatics, Harvard Me...  \n",
       "36  Mathematical Engineering, University Carlos II...  \n",
       "37  Experimental Particle Physics, New York Univer...  \n",
       "38      Computational Neuroscience, Stanford, Postdoc  \n",
       "39  Computer Science and Engineering, University o...  \n",
       "40  Astrophysics/Cosmology, Carnegie Mellon Univer...  \n",
       "41         Chemical Engineering, UC Berkeley, Postdoc  \n",
       "42  Biomedical Genetics, Biochemistry, and Organog...  \n",
       "43  Theoretical and Computational Astrophysics, UC...  \n",
       "44      Probability Theory and Stochastic Processes,   \n",
       "45                     Applied Physics, Stanford, PhD  \n",
       "46  Mathematics/Electrical Engineering, California...  \n",
       "47  Artificial Intelligence - Evolutionary Computa...  \n",
       "48           Astronomy, University of Washington, PhD  \n",
       "49  Theoretical High Energy Physics, UC Berkeley, PhD  "
      ]
     },
     "execution_count": 82,
     "metadata": {},
     "output_type": "execute_result"
    }
   ],
   "source": [
    "data.head(50)"
   ]
  },
  {
   "cell_type": "code",
   "execution_count": 83,
   "metadata": {
    "collapsed": false
   },
   "outputs": [
    {
     "data": {
      "text/plain": [
       "Facebook                       37\n",
       "Stitch Fix                     19\n",
       "LinkedIn                       14\n",
       "Insight Data Science           13\n",
       "Netflix                        10\n",
       "Airbnb                          9\n",
       "Square                          9\n",
       "Viacom                          7\n",
       "Twitter                         7\n",
       "Google                          7\n",
       "Capital One                     7\n",
       "Yelp                            7\n",
       "Silicon Valley Data Science     7\n",
       "Apple                           6\n",
       "Uber                            6\n",
       "Microsoft Yammer                6\n",
       "Gartner                         6\n",
       "Schireson                       6\n",
       "IBM                             5\n",
       "Macy's                          5\n",
       "SalesforceIQ                    5\n",
       "Grand Rounds                    5\n",
       "Nielsen                         4\n",
       "Intuit                          4\n",
       "Bloomberg                       4\n",
       "Glassdoor                       3\n",
       "Sojern                          3\n",
       "Memorial Sloan Kettering        3\n",
       "SambaTV                         3\n",
       "Juvo                            3\n",
       "                               ..\n",
       "HP                              1\n",
       "@Point of Care                  1\n",
       "InVitae                         1\n",
       "Canary                          1\n",
       "Charles Schwab                  1\n",
       "LA Dodgers                      1\n",
       "Travelers                       1\n",
       "Jawbone                         1\n",
       "Applecart                       1\n",
       "Verizon                         1\n",
       "RichRelevance                   1\n",
       "Pacific Biosciences             1\n",
       "Trace Genomics                  1\n",
       "UNICEF                          1\n",
       "Kabbage                         1\n",
       "CubeSmart                       1\n",
       "Schoold                         1\n",
       "Linkedin                        1\n",
       "Parsec                          1\n",
       "RedOwl Analytics                1\n",
       "Playdots                        1\n",
       "H20                             1\n",
       "Pymetrics                       1\n",
       "Coach                           1\n",
       "Microsoft                       1\n",
       "Doxmity                         1\n",
       "LearnVest                       1\n",
       "Telefonica                      1\n",
       "Counsyl                         1\n",
       "rocQ                            1\n",
       "Name: Company, dtype: int64"
      ]
     },
     "execution_count": 83,
     "metadata": {},
     "output_type": "execute_result"
    }
   ],
   "source": [
    "data[\"Company\"].value_counts()"
   ]
  },
  {
   "cell_type": "code",
   "execution_count": 84,
   "metadata": {
    "collapsed": false
   },
   "outputs": [
    {
     "data": {
      "text/plain": [
       "Data Scientist                                             286\n",
       "Senior Data Scientist                                       33\n",
       "Data Scientist                                              14\n",
       "Data Engineer                                                8\n",
       "Lead Data Scientist                                          8\n",
       "Program Director & Data Scientist                            7\n",
       "Sr. Data Scientist                                           7\n",
       "Software Engineer                                            6\n",
       "Consultant, Data Science                                     4\n",
       "Senior Data Analyst                                          4\n",
       "Quantitative Researcher                                      3\n",
       "Security Data Scientist                                      3\n",
       "N/A                                                          3\n",
       "Quantitative Analyst                                         3\n",
       "Operations Analyst                                           3\n",
       "Field Engineer                                               2\n",
       "Jr. Data Scientist                                           2\n",
       "Decision Scientist                                           2\n",
       "Program Director, Research Science                           2\n",
       "Artificial Intelligence Lead                                 2\n",
       "Research Scientist                                           2\n",
       "Data Analyst                                                 2\n",
       "Machine Learning Engineer                                    2\n",
       "Algorithm Developer                                          2\n",
       "Data Science Associate                                       2\n",
       "Data Science Consultant                                      2\n",
       "Director of Data and Analytics                               2\n",
       "Ads Analytics                                                1\n",
       "Data Scientist II                                            1\n",
       "VP Global Marketing & Client Analytics                       1\n",
       "                                                          ... \n",
       "Manager, Security Data Science                               1\n",
       "Quantitative Scientist, People Analytics                     1\n",
       "Quantitative Scientist                                       1\n",
       "Data Lead                                                    1\n",
       "Data Mining Engineer                                         1\n",
       "Head of Data Science, NY                                     1\n",
       "Software Engineer - Data-Mining                              1\n",
       "Client Data Scientist                                        1\n",
       "Staff Scientist                                              1\n",
       "Head of Health Data Science                                  1\n",
       "Co-founder                                                   1\n",
       "Systems Operations Scientist/Data Scientist                  1\n",
       "Software Engineer Data Mining                                1\n",
       "Senior Data Engineering Developer                            1\n",
       " Data Research Scientist                                     1\n",
       "Data Scientist/Software Engineer                             1\n",
       "Applied Scientist                                            1\n",
       "Business Associate                                           1\n",
       "EDU Specialist                                               1\n",
       "Software Engineer - Natural Language Processing              1\n",
       "Data Scientist / R&D Engineer                                1\n",
       "Senior Data Scientist, Business Analytics (Data Mining)      1\n",
       "Machine Learning Researcher                                  1\n",
       "Data Scientist / Software Engineer                           1\n",
       "Data Architect                                               1\n",
       "Head of Anti-Abuse Engineering                               1\n",
       "Senior Software Engineer Technical Lead                      1\n",
       "Research Data Scientist                                      1\n",
       "Director of Data Science                                     1\n",
       "Lead Analyst                                                 1\n",
       "Name: Title, dtype: int64"
      ]
     },
     "execution_count": 84,
     "metadata": {},
     "output_type": "execute_result"
    }
   ],
   "source": [
    "data[\"Title\"].value_counts()"
   ]
  }
 ],
 "metadata": {
  "kernelspec": {
   "display_name": "Python 3",
   "language": "python",
   "name": "python3"
  },
  "language_info": {
   "codemirror_mode": {
    "name": "ipython",
    "version": 3
   },
   "file_extension": ".py",
   "mimetype": "text/x-python",
   "name": "python",
   "nbconvert_exporter": "python",
   "pygments_lexer": "ipython3",
   "version": "3.6.0"
  }
 },
 "nbformat": 4,
 "nbformat_minor": 2
}
